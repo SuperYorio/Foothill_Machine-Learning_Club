{
 "cells": [
  {
   "cell_type": "markdown",
   "metadata": {},
   "source": [
    "# Intro to Numpy\n",
    "\n",
    "Numpy is a powerful package that can assist us with efficient computing powers. We will be using this package a lot for different Machine Learning algorithm practices.\n",
    "\n",
    "First of all, to actually use the package, we need to import it!"
   ]
  },
  {
   "cell_type": "code",
   "execution_count": 1,
   "metadata": {},
   "outputs": [],
   "source": [
    "import numpy as np"
   ]
  },
  {
   "cell_type": "markdown",
   "metadata": {},
   "source": [
    "Numpy is famous for its matrix operations. The matrices are also known as ndarrays. Let's create some! The code simply creates matrices with random values between 0 and 1 with shape (m, n).\n",
    "\n",
    "Note:\n",
    "<br>\n",
    "m = # of rows\n",
    "<br>\n",
    "n = # of columns"
   ]
  },
  {
   "cell_type": "code",
   "execution_count": 2,
   "metadata": {},
   "outputs": [
    {
     "name": "stdout",
     "output_type": "stream",
     "text": [
      "A:\n",
      " [[0.44301902 0.55358705 0.62999884 0.76415369]\n",
      " [0.17919054 0.22890302 0.24190631 0.04074649]\n",
      " [0.96616876 0.98757651 0.81846418 0.6738869 ]]\n",
      "B:\n",
      " [[0.90028323 0.34331779 0.98378841 0.53900232 0.10908683]\n",
      " [0.39272762 0.36251292 0.46524656 0.11750489 0.94464401]\n",
      " [0.54934626 0.67528543 0.85415538 0.1005783  0.54389411]\n",
      " [0.38812551 0.33329522 0.69353805 0.87217157 0.75455479]]\n"
     ]
    }
   ],
   "source": [
    "A = np.random.rand(3, 4)\n",
    "B = np.random.rand(4, 5)\n",
    "print(\"A:\\n\", A)\n",
    "print(\"B:\\n\", B)"
   ]
  },
  {
   "cell_type": "markdown",
   "metadata": {},
   "source": [
    "To inspect the shape of a matrix, simply:"
   ]
  },
  {
   "cell_type": "code",
   "execution_count": 3,
   "metadata": {},
   "outputs": [
    {
     "data": {
      "text/plain": [
       "(3, 4)"
      ]
     },
     "execution_count": 3,
     "metadata": {},
     "output_type": "execute_result"
    }
   ],
   "source": [
    "A.shape"
   ]
  },
  {
   "cell_type": "markdown",
   "metadata": {},
   "source": [
    "Let's perform some basic matrices operations!"
   ]
  },
  {
   "cell_type": "code",
   "execution_count": 4,
   "metadata": {},
   "outputs": [
    {
     "name": "stdout",
     "output_type": "stream",
     "text": [
      "A:\n",
      " [[0.44301902 0.17919054 0.96616876]\n",
      " [0.55358705 0.22890302 0.98757651]\n",
      " [0.62999884 0.24190631 0.81846418]\n",
      " [0.76415369 0.04074649 0.6738869 ]]\n",
      "Dot product of A and B:\n",
      " [[1.25892657 1.03289658 1.76147801 1.03367481 1.49051871]\n",
      " [0.39992386 0.32143602 0.51766674 0.1833498  0.39809607]\n",
      " [1.96884704 1.46701238 2.57643399 1.30687701 1.99194696]]\n",
      "Shape of C: (3, 5)\n"
     ]
    }
   ],
   "source": [
    "# Transpose\n",
    "print(\"A:\\n\", A.T)\n",
    "\n",
    "# Dot product of two matrices (AxB . BxC gives a dimension of AxC)\n",
    "C = A.dot(B)\n",
    "print(\"Dot product of A and B:\\n\", C)\n",
    "print(\"Shape of C:\", C.shape)"
   ]
  },
  {
   "cell_type": "markdown",
   "metadata": {},
   "source": [
    "Numpy also has a subclass called linalg - short for Linear Algebra. This subclass can compute complicated linear algebra operations efficiently! Let's first create a square matrix"
   ]
  },
  {
   "cell_type": "code",
   "execution_count": 5,
   "metadata": {},
   "outputs": [
    {
     "data": {
      "text/plain": [
       "array([[0.58959679, 0.30434958, 0.67469218],\n",
       "       [0.84588803, 0.54229824, 0.56567866],\n",
       "       [0.15492781, 0.72134633, 0.11239809]])"
      ]
     },
     "execution_count": 5,
     "metadata": {},
     "output_type": "execute_result"
    }
   ],
   "source": [
    "square_mat = np.random.rand(3, 3)\n",
    "square_mat"
   ]
  },
  {
   "cell_type": "code",
   "execution_count": 6,
   "metadata": {},
   "outputs": [
    {
     "name": "stdout",
     "output_type": "stream",
     "text": [
      "The Determinant of square_mat:\n"
     ]
    },
    {
     "data": {
      "text/plain": [
       "0.1480861728057067"
      ]
     },
     "execution_count": 6,
     "metadata": {},
     "output_type": "execute_result"
    }
   ],
   "source": [
    "print(\"The Determinant of square_mat:\")\n",
    "np.linalg.det(square_mat)"
   ]
  },
  {
   "cell_type": "code",
   "execution_count": 7,
   "metadata": {},
   "outputs": [
    {
     "name": "stdout",
     "output_type": "stream",
     "text": [
      "The Inverse of square_mat:\n"
     ]
    },
    {
     "data": {
      "text/plain": [
       "array([[-2.3438849 ,  3.05550756, -1.30815941],\n",
       "       [-0.0502197 , -0.25835652,  1.60171415],\n",
       "       [ 3.55307415, -2.55358931,  0.42064451]])"
      ]
     },
     "execution_count": 7,
     "metadata": {},
     "output_type": "execute_result"
    }
   ],
   "source": [
    "print(\"The Inverse of square_mat:\")\n",
    "np.linalg.inv(square_mat)"
   ]
  },
  {
   "cell_type": "markdown",
   "metadata": {},
   "source": [
    "Now that we are more familiar with how numpy works, let's move on to slicing!\n",
    "\n",
    "First, let's create a bigger matrix!"
   ]
  },
  {
   "cell_type": "code",
   "execution_count": 8,
   "metadata": {
    "scrolled": true
   },
   "outputs": [
    {
     "data": {
      "text/plain": [
       "array([[ 13,  61,  27,  37, 119,   1, 146,  28,  53, 168],\n",
       "       [  3,  53, 159, 183,  25,  31,  48, 118, 125,  67],\n",
       "       [136,   4, 104,  94,  44, 121,  39, 174, 192, 168],\n",
       "       [ 85, 132, 165,  83, 187,  92,  44,  70,  30, 173],\n",
       "       [ 73, 144, 128, 165, 184,  56,  82,  48, 142, 183],\n",
       "       [100,  36, 172,  97, 151,  93, 117, 108,  18, 131],\n",
       "       [ 85,  17, 129, 150,  75, 159,  88, 165, 107,  49],\n",
       "       [186, 105, 154, 103,   1,   1, 193, 111,  82, 137],\n",
       "       [ 28,  91, 174, 102,  88,  56, 148,  59, 178, 197],\n",
       "       [155, 117, 163, 152, 183, 108,  32,  80,  33,  47]])"
      ]
     },
     "execution_count": 8,
     "metadata": {},
     "output_type": "execute_result"
    }
   ],
   "source": [
    "A = np.random.randint(low=0, high=200, size=(10,10))\n",
    "A"
   ]
  },
  {
   "cell_type": "markdown",
   "metadata": {},
   "source": [
    "Assume that we want rows from row 3 to row 6 (which means row 2 to 5 since the index starts at 0):"
   ]
  },
  {
   "cell_type": "code",
   "execution_count": 9,
   "metadata": {},
   "outputs": [
    {
     "data": {
      "text/plain": [
       "array([[136,   4, 104,  94,  44, 121,  39, 174, 192, 168],\n",
       "       [ 85, 132, 165,  83, 187,  92,  44,  70,  30, 173],\n",
       "       [ 73, 144, 128, 165, 184,  56,  82,  48, 142, 183],\n",
       "       [100,  36, 172,  97, 151,  93, 117, 108,  18, 131]])"
      ]
     },
     "execution_count": 9,
     "metadata": {},
     "output_type": "execute_result"
    }
   ],
   "source": [
    "A[2:6]"
   ]
  },
  {
   "cell_type": "markdown",
   "metadata": {},
   "source": [
    "As you can see, the slicing operation is similar to how we slice other objects (i.e. Strings) - [a:b] means from a (inclusive) to b (exclusive).\n",
    "\n",
    "Now, say we want columns from column 3 to column 5:"
   ]
  },
  {
   "cell_type": "code",
   "execution_count": 10,
   "metadata": {
    "scrolled": true
   },
   "outputs": [
    {
     "data": {
      "text/plain": [
       "array([[ 27,  37, 119,   1],\n",
       "       [159, 183,  25,  31],\n",
       "       [104,  94,  44, 121],\n",
       "       [165,  83, 187,  92],\n",
       "       [128, 165, 184,  56],\n",
       "       [172,  97, 151,  93],\n",
       "       [129, 150,  75, 159],\n",
       "       [154, 103,   1,   1],\n",
       "       [174, 102,  88,  56],\n",
       "       [163, 152, 183, 108]])"
      ]
     },
     "execution_count": 10,
     "metadata": {},
     "output_type": "execute_result"
    }
   ],
   "source": [
    "A[:, 2:6]"
   ]
  },
  {
   "cell_type": "markdown",
   "metadata": {},
   "source": [
    "The \":,\" in the beginning simply means we want all the rows of these columns.\n",
    "\n",
    "Now, say we want rows 3-5 and columns 3-5.\n",
    "You can probably guess the code for this:"
   ]
  },
  {
   "cell_type": "code",
   "execution_count": 11,
   "metadata": {},
   "outputs": [
    {
     "data": {
      "text/plain": [
       "array([[104,  94,  44, 121],\n",
       "       [165,  83, 187,  92],\n",
       "       [128, 165, 184,  56],\n",
       "       [172,  97, 151,  93]])"
      ]
     },
     "execution_count": 11,
     "metadata": {},
     "output_type": "execute_result"
    }
   ],
   "source": [
    "A[2:6, 2:6]"
   ]
  },
  {
   "cell_type": "markdown",
   "metadata": {},
   "source": [
    "Next, broadcasting. This is something the list from vanilla python cannot do, it will raise an error."
   ]
  },
  {
   "cell_type": "code",
   "execution_count": 12,
   "metadata": {},
   "outputs": [
    {
     "data": {
      "text/plain": [
       "array([0, 1, 2, 3, 4])"
      ]
     },
     "execution_count": 12,
     "metadata": {},
     "output_type": "execute_result"
    }
   ],
   "source": [
    "# nums = [0, 1, 2, 3, 4]\n",
    "# nums + 5                Will raise an error; list cannot work with int\n",
    "\n",
    "A = np.arange(0, 5)\n",
    "A"
   ]
  },
  {
   "cell_type": "code",
   "execution_count": 13,
   "metadata": {},
   "outputs": [
    {
     "data": {
      "text/plain": [
       "array([5, 6, 7, 8, 9])"
      ]
     },
     "execution_count": 13,
     "metadata": {},
     "output_type": "execute_result"
    }
   ],
   "source": [
    "# This will not raise an error:\n",
    "A + 5"
   ]
  },
  {
   "cell_type": "markdown",
   "metadata": {},
   "source": [
    "Needless to say, this could be done to big, complicated arrays:"
   ]
  },
  {
   "cell_type": "code",
   "execution_count": 14,
   "metadata": {
    "scrolled": true
   },
   "outputs": [
    {
     "data": {
      "text/plain": [
       "array([[0.57687038, 0.24450664, 0.67247502, 0.34450274, 0.70016254,\n",
       "        0.59037796, 0.87199989, 0.55114854, 0.33954133, 0.19353015],\n",
       "       [0.67926517, 0.7598611 , 0.72038702, 0.76106755, 0.74332444,\n",
       "        0.25312281, 0.11831178, 0.07430064, 0.08600708, 0.99704423],\n",
       "       [0.07632733, 0.05546759, 0.94494364, 0.01265978, 0.33367632,\n",
       "        0.00798284, 0.54655506, 0.71992477, 0.15215962, 0.20569613],\n",
       "       [0.96556732, 0.50897252, 0.7194195 , 0.62733974, 0.45076815,\n",
       "        0.74702307, 0.18429445, 0.82375678, 0.55610196, 0.15959152],\n",
       "       [0.95247716, 0.90977385, 0.98679708, 0.55705006, 0.44934777,\n",
       "        0.74476508, 0.18018895, 0.76650888, 0.34842357, 0.04040032],\n",
       "       [0.7101492 , 0.51015226, 0.75847078, 0.95292218, 0.63834956,\n",
       "        0.90969519, 0.64701236, 0.42571633, 0.48230942, 0.29959739],\n",
       "       [0.67570177, 0.84595048, 0.30135012, 0.88697978, 0.38779612,\n",
       "        0.53661327, 0.56373406, 0.60537396, 0.25213812, 0.36152823],\n",
       "       [0.84769412, 0.87494513, 0.91442492, 0.45840899, 0.13126037,\n",
       "        0.75359526, 0.0616352 , 0.88611811, 0.37099465, 0.28311158],\n",
       "       [0.15740153, 0.69252305, 0.49049596, 0.94418495, 0.85494653,\n",
       "        0.6307519 , 0.43616354, 0.56833942, 0.11723139, 0.28981797],\n",
       "       [0.82560639, 0.90593218, 0.67109982, 0.01505124, 0.07848752,\n",
       "        0.78573125, 0.52743863, 0.9971507 , 0.51853381, 0.97070406]])"
      ]
     },
     "execution_count": 14,
     "metadata": {},
     "output_type": "execute_result"
    }
   ],
   "source": [
    "A = np.random.rand(10, 10)\n",
    "A"
   ]
  },
  {
   "cell_type": "code",
   "execution_count": 15,
   "metadata": {
    "scrolled": false
   },
   "outputs": [
    {
     "data": {
      "text/plain": [
       "array([[ 1.67608486, -1.79123337,  2.67346112, -0.74804412,  2.96230569,\n",
       "         1.81699995,  4.75496445,  1.40774693, -0.799803  , -2.32303542],\n",
       "       [ 2.744298  ,  3.58509899,  3.17329349,  3.597685  ,  3.41258358,\n",
       "        -1.70134695, -3.10773602, -3.56687349, -3.44474834,  6.05946453],\n",
       "       [-3.54573044, -3.76334545,  5.51593554, -4.20992937, -0.8609885 ,\n",
       "        -4.25872057,  1.35982634,  3.16847122, -2.75462517, -2.19611621],\n",
       "       [ 5.731088  ,  0.96775397,  3.16320007,  2.20259638,  0.36054853,\n",
       "         3.45116873, -2.41938504,  4.25167788,  1.45942246, -2.6770934 ],\n",
       "       [ 5.59452749,  5.14903375,  5.95256322,  1.46931339,  0.34573079,\n",
       "         3.42761277, -2.46221486,  3.65445061, -0.70714075, -3.92053175],\n",
       "       [ 3.0664895 ,  0.98006137,  3.57059477,  5.59917005,  2.31745412,\n",
       "         5.14821314,  2.407827  ,  0.09920044,  0.68959655, -1.21651018],\n",
       "       [ 2.70712362,  4.4832092 , -1.19822514,  4.91123912, -0.29639449,\n",
       "         1.25611064,  1.53904281,  1.97344278, -1.71161947, -0.57042905],\n",
       "       [ 4.50139938,  4.78569011,  5.19755507,  0.44026014, -2.97265243,\n",
       "         3.51973188, -3.69900306,  4.90224993, -0.47167248, -1.38849504],\n",
       "       [-2.69994004,  2.8826082 ,  0.77500102,  5.50802062,  4.57705864,\n",
       "         2.23819306,  0.2081889 ,  1.58708737, -3.11900696, -1.31853195],\n",
       "       [ 4.27097352,  5.10895627,  2.65911464, -4.18498091, -3.52319461,\n",
       "         3.85498413,  1.16039806,  6.0605752 ,  1.06750029,  5.78467596]])"
      ]
     },
     "execution_count": 15,
     "metadata": {},
     "output_type": "execute_result"
    }
   ],
   "source": [
    "A * 10.4323 - 4.342"
   ]
  },
  {
   "cell_type": "markdown",
   "metadata": {},
   "source": [
    "Last but not least, reshaping. This is a really important method because it helps us feature engineer much easily."
   ]
  },
  {
   "cell_type": "code",
   "execution_count": 16,
   "metadata": {},
   "outputs": [
    {
     "data": {
      "text/plain": [
       "array([[0.86256217, 0.5579376 , 0.23560901, 0.92887837],\n",
       "       [0.58490036, 0.78588328, 0.85494572, 0.48587739],\n",
       "       [0.36853283, 0.23802236, 0.30410236, 0.8674434 ]])"
      ]
     },
     "execution_count": 16,
     "metadata": {},
     "output_type": "execute_result"
    }
   ],
   "source": [
    "A = np.random.rand(3,4)\n",
    "A"
   ]
  },
  {
   "cell_type": "code",
   "execution_count": 17,
   "metadata": {},
   "outputs": [
    {
     "data": {
      "text/plain": [
       "(3, 4)"
      ]
     },
     "execution_count": 17,
     "metadata": {},
     "output_type": "execute_result"
    }
   ],
   "source": [
    "A.shape"
   ]
  },
  {
   "cell_type": "markdown",
   "metadata": {},
   "source": [
    "To reshape, simply use the reshape() method."
   ]
  },
  {
   "cell_type": "code",
   "execution_count": 18,
   "metadata": {},
   "outputs": [
    {
     "data": {
      "text/plain": [
       "array([[0.86256217, 0.5579376 , 0.23560901, 0.92887837, 0.58490036,\n",
       "        0.78588328],\n",
       "       [0.85494572, 0.48587739, 0.36853283, 0.23802236, 0.30410236,\n",
       "        0.8674434 ]])"
      ]
     },
     "execution_count": 18,
     "metadata": {},
     "output_type": "execute_result"
    }
   ],
   "source": [
    "# 2D Reshape\n",
    "A = A.reshape(2,6)\n",
    "A"
   ]
  },
  {
   "cell_type": "code",
   "execution_count": 19,
   "metadata": {},
   "outputs": [
    {
     "data": {
      "text/plain": [
       "array([0.86256217, 0.5579376 , 0.23560901, 0.92887837, 0.58490036,\n",
       "       0.78588328, 0.85494572, 0.48587739, 0.36853283, 0.23802236,\n",
       "       0.30410236, 0.8674434 ])"
      ]
     },
     "execution_count": 19,
     "metadata": {},
     "output_type": "execute_result"
    }
   ],
   "source": [
    "# 1D Reshape\n",
    "A = A.ravel()\n",
    "A"
   ]
  },
  {
   "cell_type": "code",
   "execution_count": 20,
   "metadata": {},
   "outputs": [
    {
     "data": {
      "text/plain": [
       "array([[[0.86256217, 0.5579376 , 0.23560901],\n",
       "        [0.92887837, 0.58490036, 0.78588328]],\n",
       "\n",
       "       [[0.85494572, 0.48587739, 0.36853283],\n",
       "        [0.23802236, 0.30410236, 0.8674434 ]]])"
      ]
     },
     "execution_count": 20,
     "metadata": {},
     "output_type": "execute_result"
    }
   ],
   "source": [
    "# 3D Reshape\n",
    "A = A.reshape(2, 2, 3)\n",
    "A"
   ]
  },
  {
   "cell_type": "markdown",
   "metadata": {},
   "source": [
    "There are many, many more things we can do with numpy. However, we will mostly be using these methods throughout the course. Hope you had fun! See you in the next meeting :)"
   ]
  }
 ],
 "metadata": {
  "kernelspec": {
   "display_name": "Python 3",
   "language": "python",
   "name": "python3"
  },
  "language_info": {
   "codemirror_mode": {
    "name": "ipython",
    "version": 3
   },
   "file_extension": ".py",
   "mimetype": "text/x-python",
   "name": "python",
   "nbconvert_exporter": "python",
   "pygments_lexer": "ipython3",
   "version": "3.7.2"
  }
 },
 "nbformat": 4,
 "nbformat_minor": 2
}
