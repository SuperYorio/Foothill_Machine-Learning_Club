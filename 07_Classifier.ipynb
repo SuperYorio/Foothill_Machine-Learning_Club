{
  "nbformat": 4,
  "nbformat_minor": 0,
  "metadata": {
    "colab": {
      "name": "Classifier.ipynb",
      "provenance": [],
      "collapsed_sections": []
    },
    "kernelspec": {
      "name": "python3",
      "display_name": "Python 3"
    }
  },
  "cells": [
    {
      "cell_type": "markdown",
      "metadata": {
        "id": "2Ao2DB8YA2A5",
        "colab_type": "text"
      },
      "source": [
        "# Classifier for MNIST Hand Written Digits\n",
        "\n",
        "The list of Scikit-Learn Classifiers: https://stackoverflow.com/questions/41844311/list-of-all-classification-algorithms\n",
        "\n",
        "In a lot of the Classifier examples, we will be using PARTIAL data simply because training the whole dataset may take a few hours."
      ]
    },
    {
      "cell_type": "markdown",
      "metadata": {
        "id": "msJXNDEbAs_d",
        "colab_type": "text"
      },
      "source": [
        "(TensorFlow version selector for neural network demonstration for Google Colab)"
      ]
    },
    {
      "cell_type": "code",
      "metadata": {
        "id": "-trZAJo8AX5r",
        "colab_type": "code",
        "outputId": "d3d67e78-d64e-48d6-e8f7-7f1fb67fe17c",
        "colab": {
          "base_uri": "https://localhost:8080/",
          "height": 34
        }
      },
      "source": [
        "%tensorflow_version 2.x"
      ],
      "execution_count": 1,
      "outputs": [
        {
          "output_type": "stream",
          "text": [
            "TensorFlow 2.x selected.\n"
          ],
          "name": "stdout"
        }
      ]
    },
    {
      "cell_type": "markdown",
      "metadata": {
        "id": "cztyF_2qBP0a",
        "colab_type": "text"
      },
      "source": [
        "First, let us import the modules we need for loading the dataset and the displaying them!"
      ]
    },
    {
      "cell_type": "code",
      "metadata": {
        "id": "sqfw_MqjApSn",
        "colab_type": "code",
        "colab": {}
      },
      "source": [
        "import numpy as np\n",
        "from sklearn.datasets import fetch_openml\n",
        "import matplotlib as mpl\n",
        "import matplotlib.pyplot as plt"
      ],
      "execution_count": 0,
      "outputs": []
    },
    {
      "cell_type": "code",
      "metadata": {
        "id": "DdaOibCcBZgj",
        "colab_type": "code",
        "colab": {}
      },
      "source": [
        "digits = fetch_openml('mnist_784', version=1)"
      ],
      "execution_count": 0,
      "outputs": []
    },
    {
      "cell_type": "markdown",
      "metadata": {
        "id": "5lB-mcYHCSW6",
        "colab_type": "text"
      },
      "source": [
        "The MNIST Hand-Written datasets consists of 28x28 images with handwritten digits from 0-9 in black & white. Let's now split this into our data and labels! Each pixel is between 0 and 255, so we should divide the whole image by 255. to scale the numbers down!"
      ]
    },
    {
      "cell_type": "code",
      "metadata": {
        "id": "ZRS4SR9NB6ei",
        "colab_type": "code",
        "colab": {}
      },
      "source": [
        "X = digits.data\n",
        "y = digits.target"
      ],
      "execution_count": 0,
      "outputs": []
    },
    {
      "cell_type": "code",
      "metadata": {
        "id": "kY8QoEkiCpjX",
        "colab_type": "code",
        "colab": {}
      },
      "source": [
        "X /= 255.0"
      ],
      "execution_count": 0,
      "outputs": []
    },
    {
      "cell_type": "code",
      "metadata": {
        "id": "p_H7AUhSM29Z",
        "colab_type": "code",
        "outputId": "cb86b1ca-5765-4145-9802-a5e674931402",
        "colab": {
          "base_uri": "https://localhost:8080/",
          "height": 50
        }
      },
      "source": [
        "print(\"Original Shape:\", X.shape)\n",
        "X = X.reshape(70000, 28, 28)\n",
        "print(\"New Shape:\", X.shape)"
      ],
      "execution_count": 6,
      "outputs": [
        {
          "output_type": "stream",
          "text": [
            "Original Shape: (70000, 784)\n",
            "New Shape: (70000, 28, 28)\n"
          ],
          "name": "stdout"
        }
      ]
    },
    {
      "cell_type": "markdown",
      "metadata": {
        "id": "gCJn_dvaC2Rn",
        "colab_type": "text"
      },
      "source": [
        "Now, let's display a digit and its true value, also known as the label."
      ]
    },
    {
      "cell_type": "code",
      "metadata": {
        "id": "l4tFCON8CRT8",
        "colab_type": "code",
        "outputId": "4e90a44d-9ee2-4df5-a62b-75fc5a879a29",
        "colab": {
          "base_uri": "https://localhost:8080/",
          "height": 282
        }
      },
      "source": [
        "test_num = 0\n",
        "plt.imshow(X[test_num], cmap='binary')\n",
        "print(\"The real value is:\", y[test_num])"
      ],
      "execution_count": 7,
      "outputs": [
        {
          "output_type": "stream",
          "text": [
            "The real value is: 5\n"
          ],
          "name": "stdout"
        },
        {
          "output_type": "display_data",
          "data": {
            "image/png": "[encoded data removed]",
            "text/plain": [
              "<Figure size 432x288 with 1 Axes>"
            ]
          },
          "metadata": {
            "tags": []
          }
        }
      ]
    },
    {
      "cell_type": "markdown",
      "metadata": {
        "id": "6H1MMMnVC-7s",
        "colab_type": "text"
      },
      "source": [
        "The next step before we begin training our classifier we need to split this into a training set, a testing set, and a validation set.\n",
        "\n",
        "Usually, the training set consists of 80% of the whole dataset whereas the testing set is 20% of the whole dataset. The validation set is then 10% of the training set.\n",
        "\n",
        "We can achieve this result using Scikit-Learn's train_test_split method, extremely easy!"
      ]
    },
    {
      "cell_type": "code",
      "metadata": {
        "id": "hTU8l62NEFnd",
        "colab_type": "code",
        "colab": {}
      },
      "source": [
        "from sklearn.model_selection import train_test_split\n",
        "\n",
        "X_train, X_test, y_train, y_test = train_test_split(X, y, test_size=0.2)\n",
        "X_train, X_val, y_train, y_val = train_test_split(X_train, y_train, test_size=0.1)"
      ],
      "execution_count": 0,
      "outputs": []
    },
    {
      "cell_type": "markdown",
      "metadata": {
        "id": "HBFIBXK5EoHh",
        "colab_type": "text"
      },
      "source": [
        "In order to speed up the convergence and the minimization of the cost function, we should **Normalize** the inputs.\n",
        "\n",
        "![alt text](https://encrypted-tbn0.gstatic.com/images?q=tbn:ANd9GcS18PEfldHdtaRIRY4CVOTw13pbwgzdlECZDcTWiaL41dyGi8HjlA&s)\n",
        "\n",
        "We could achieve this by simply using Scikit-Learn's StandardScaler method!\n",
        "\n",
        "Before we normalize our inputs, we need to reshape our 8x8 matrix of pixels into a 64-item array like so:"
      ]
    },
    {
      "cell_type": "code",
      "metadata": {
        "id": "gcyYQrR8Gtzq",
        "colab_type": "code",
        "outputId": "0ae81fed-2af6-461e-ecf3-364c84a328dd",
        "colab": {
          "base_uri": "https://localhost:8080/",
          "height": 50
        }
      },
      "source": [
        "print(\"Original Shape:\", X_train.shape)\n",
        "X_train = X_train.reshape((X_train.shape[0], -1))\n",
        "print(\"New Shape:\", X_train.shape)"
      ],
      "execution_count": 9,
      "outputs": [
        {
          "output_type": "stream",
          "text": [
            "Original Shape: (50400, 28, 28)\n",
            "New Shape: (50400, 784)\n"
          ],
          "name": "stdout"
        }
      ]
    },
    {
      "cell_type": "markdown",
      "metadata": {
        "id": "RuJxTPRWHEMS",
        "colab_type": "text"
      },
      "source": [
        "We do the same for the test set and the validation set:"
      ]
    },
    {
      "cell_type": "code",
      "metadata": {
        "id": "I1a2sPIeHDsT",
        "colab_type": "code",
        "outputId": "327891ba-13bc-4457-d528-fe1e3e8a6767",
        "colab": {
          "base_uri": "https://localhost:8080/",
          "height": 50
        }
      },
      "source": [
        "X_val = X_val.reshape(X_val.shape[0], -1)\n",
        "X_test = X_test.reshape(X_test.shape[0], -1)\n",
        "print(\"Validation set shape:\", X_val.shape)\n",
        "print(\"Test set shape:\", X_test.shape)"
      ],
      "execution_count": 10,
      "outputs": [
        {
          "output_type": "stream",
          "text": [
            "Validation set shape: (5600, 784)\n",
            "Test set shape: (14000, 784)\n"
          ],
          "name": "stdout"
        }
      ]
    },
    {
      "cell_type": "code",
      "metadata": {
        "id": "3IJlFPZtEmxr",
        "colab_type": "code",
        "colab": {}
      },
      "source": [
        "from sklearn.preprocessing import StandardScaler\n",
        "\n",
        "std_scale = StandardScaler()\n",
        "X_train_scaled = std_scale.fit_transform(X_train)\n",
        "X_val_scaled = std_scale.transform(X_val)\n",
        "X_test_scaled = std_scale.transform(X_test)"
      ],
      "execution_count": 0,
      "outputs": []
    },
    {
      "cell_type": "markdown",
      "metadata": {
        "id": "szCOjNGlHork",
        "colab_type": "text"
      },
      "source": [
        "That is all for data preprocessing! We are now ready to train different classifiers!\n",
        "\n",
        "We will begin looking at different classification algorithms now :)"
      ]
    },
    {
      "cell_type": "markdown",
      "metadata": {
        "id": "ehWmzOypIaHg",
        "colab_type": "text"
      },
      "source": [
        "# 1. SVC: Support Vector Classifier from Support Vector Machine"
      ]
    },
    {
      "cell_type": "markdown",
      "metadata": {
        "id": "MH9GNHE2OLXC",
        "colab_type": "text"
      },
      "source": [
        "Technically, you would want to train the classifier with all of your training data, but since we have limited time, let's just train on 1000 samples."
      ]
    },
    {
      "cell_type": "code",
      "metadata": {
        "id": "wuAupLMTGA-0",
        "colab_type": "code",
        "outputId": "fbdbf8b9-c5c3-414b-c8d6-2e7f1acb2cb0",
        "colab": {
          "base_uri": "https://localhost:8080/",
          "height": 84
        }
      },
      "source": [
        "from sklearn.svm import SVC\n",
        "\n",
        "svc = SVC(gamma='auto', random_state=42)\n",
        "svc.fit(X_train_scaled[:1000], y_train[:1000])"
      ],
      "execution_count": 12,
      "outputs": [
        {
          "output_type": "execute_result",
          "data": {
            "text/plain": [
              "SVC(C=1.0, cache_size=200, class_weight=None, coef0=0.0,\n",
              "    decision_function_shape='ovr', degree=3, gamma='auto', kernel='rbf',\n",
              "    max_iter=-1, probability=False, random_state=42, shrinking=True, tol=0.001,\n",
              "    verbose=False)"
            ]
          },
          "metadata": {
            "tags": []
          },
          "execution_count": 12
        }
      ]
    },
    {
      "cell_type": "markdown",
      "metadata": {
        "id": "H4Rfpbo1PFvf",
        "colab_type": "text"
      },
      "source": [
        "Let's see how our classifier did:"
      ]
    },
    {
      "cell_type": "code",
      "metadata": {
        "id": "jtouzO5-J-dA",
        "colab_type": "code",
        "outputId": "b4b3704c-7ba8-41c8-d41f-a44ed7b4bbed",
        "colab": {
          "base_uri": "https://localhost:8080/",
          "height": 298
        }
      },
      "source": [
        "X_pred = svc.predict([X_test_scaled[test_num]])\n",
        "plt.imshow(X_test[test_num].reshape(28, 28), cmap='binary')\n",
        "print(\"True Value:\", y_test[test_num])\n",
        "print(\"Predicted Value:\", X_pred)"
      ],
      "execution_count": 13,
      "outputs": [
        {
          "output_type": "stream",
          "text": [
            "True Value: 0\n",
            "Predicted Value: ['0']\n"
          ],
          "name": "stdout"
        },
        {
          "output_type": "display_data",
          "data": {
            "image/png": "[encoded data removed]",
            "text/plain": [
              "<Figure size 432x288 with 1 Axes>"
            ]
          },
          "metadata": {
            "tags": []
          }
        }
      ]
    },
    {
      "cell_type": "code",
      "metadata": {
        "id": "_ZVmHFlHKlrL",
        "colab_type": "code",
        "outputId": "9cdc376c-e193-4b63-ffbc-1ee925d8ee2d",
        "colab": {
          "base_uri": "https://localhost:8080/",
          "height": 298
        }
      },
      "source": [
        "test_num = 173\n",
        "X_pred = svc.predict([X_test_scaled[test_num]])\n",
        "plt.imshow(X_test[test_num].reshape(28, 28), cmap='binary')\n",
        "print(\"True Value:\", y_test[test_num])\n",
        "print(\"Predicted Value:\", X_pred)"
      ],
      "execution_count": 14,
      "outputs": [
        {
          "output_type": "stream",
          "text": [
            "True Value: 5\n",
            "Predicted Value: ['5']\n"
          ],
          "name": "stdout"
        },
        {
          "output_type": "display_data",
          "data": {
            "image/png": "[encoded data removed]",
            "text/plain": [
              "<Figure size 432x288 with 1 Axes>"
            ]
          },
          "metadata": {
            "tags": []
          }
        }
      ]
    },
    {
      "cell_type": "markdown",
      "metadata": {
        "id": "EBEuI9doPM0G",
        "colab_type": "text"
      },
      "source": [
        "Wowza! These two trials all predicted the image correctly! Let's see how our classifier does with the whole test set by measuring its accuracy:"
      ]
    },
    {
      "cell_type": "code",
      "metadata": {
        "id": "bVBk3V7XPkeE",
        "colab_type": "code",
        "outputId": "92ba61c0-ef55-4bf0-d9d1-a7ce7733e9d2",
        "colab": {
          "base_uri": "https://localhost:8080/",
          "height": 34
        }
      },
      "source": [
        "svc.score(X_test_scaled, y_test)"
      ],
      "execution_count": 15,
      "outputs": [
        {
          "output_type": "execute_result",
          "data": {
            "text/plain": [
              "0.8762142857142857"
            ]
          },
          "metadata": {
            "tags": []
          },
          "execution_count": 15
        }
      ]
    },
    {
      "cell_type": "markdown",
      "metadata": {
        "id": "_MkmIvKYPuD9",
        "colab_type": "text"
      },
      "source": [
        "Not bad at all, not bad at all. We were able to achieve an 88% accuracy with only 1000 samples! Now, let's see how the classifier decides which number to choose from!"
      ]
    },
    {
      "cell_type": "code",
      "metadata": {
        "id": "bXu2aA8yPofi",
        "colab_type": "code",
        "outputId": "bfec64ac-0a02-4554-e0ae-1d0abdf7d764",
        "colab": {
          "base_uri": "https://localhost:8080/",
          "height": 50
        }
      },
      "source": [
        "svc.decision_function([X_test_scaled[test_num]])"
      ],
      "execution_count": 16,
      "outputs": [
        {
          "output_type": "execute_result",
          "data": {
            "text/plain": [
              "array([[ 4.78694235, -0.28978217,  2.73965772,  8.28947344,  1.73042158,\n",
              "         9.3014625 ,  0.71778016,  3.76799995,  7.2955197 ,  6.0453005 ]])"
            ]
          },
          "metadata": {
            "tags": []
          },
          "execution_count": 16
        }
      ]
    },
    {
      "cell_type": "markdown",
      "metadata": {
        "id": "SjXCQ7-AQHBq",
        "colab_type": "text"
      },
      "source": [
        "As you can see here, the 7th class has the highest \"score\" out of all 10 classes: 9.26. Thus, the classifier decided to predict this image as the 7th class, which is the number 7."
      ]
    },
    {
      "cell_type": "markdown",
      "metadata": {
        "id": "rJPd2w1xSksR",
        "colab_type": "text"
      },
      "source": [
        "# 2. K Neighbors Classifier"
      ]
    },
    {
      "cell_type": "code",
      "metadata": {
        "id": "ScfbcqpLTCLG",
        "colab_type": "code",
        "outputId": "cef630d3-8372-48e6-cf6b-828ce3b98443",
        "colab": {
          "base_uri": "https://localhost:8080/",
          "height": 67
        }
      },
      "source": [
        "from sklearn.neighbors import KNeighborsClassifier\n",
        "\n",
        "knn_clf = KNeighborsClassifier(n_neighbors=4, weights='distance')\n",
        "knn_clf.fit(X_train_scaled[:1000], y_train[:1000])"
      ],
      "execution_count": 17,
      "outputs": [
        {
          "output_type": "execute_result",
          "data": {
            "text/plain": [
              "KNeighborsClassifier(algorithm='auto', leaf_size=30, metric='minkowski',\n",
              "                     metric_params=None, n_jobs=None, n_neighbors=4, p=2,\n",
              "                     weights='distance')"
            ]
          },
          "metadata": {
            "tags": []
          },
          "execution_count": 17
        }
      ]
    },
    {
      "cell_type": "code",
      "metadata": {
        "id": "xw_SWWiTTX7h",
        "colab_type": "code",
        "outputId": "edeb72ba-2fe9-4528-cc64-a8539fc59900",
        "colab": {
          "base_uri": "https://localhost:8080/",
          "height": 34
        }
      },
      "source": [
        "knn_clf.score(X_test_scaled, y_test)"
      ],
      "execution_count": 18,
      "outputs": [
        {
          "output_type": "execute_result",
          "data": {
            "text/plain": [
              "0.8502142857142857"
            ]
          },
          "metadata": {
            "tags": []
          },
          "execution_count": 18
        }
      ]
    },
    {
      "cell_type": "markdown",
      "metadata": {
        "id": "mClTD6HAT3_a",
        "colab_type": "text"
      },
      "source": [
        "84.8% accuracy, not bad :)\n",
        "\n",
        "Let's try an example:"
      ]
    },
    {
      "cell_type": "code",
      "metadata": {
        "id": "gwHQbsrKTc3o",
        "colab_type": "code",
        "outputId": "20a46a04-8289-4b32-ea5d-46a1abbe2687",
        "colab": {
          "base_uri": "https://localhost:8080/",
          "height": 298
        }
      },
      "source": [
        "test_num = 256\n",
        "X_pred = knn_clf.predict([X_test_scaled[test_num]])\n",
        "plt.imshow(X_test[test_num].reshape(28, 28), cmap='binary')\n",
        "print(\"True Value:\", y_test[test_num])\n",
        "print(\"Predicted Value:\", X_pred)"
      ],
      "execution_count": 19,
      "outputs": [
        {
          "output_type": "stream",
          "text": [
            "True Value: 6\n",
            "Predicted Value: ['6']\n"
          ],
          "name": "stdout"
        },
        {
          "output_type": "display_data",
          "data": {
            "image/png": "[encoded data removed]",
            "text/plain": [
              "<Figure size 432x288 with 1 Axes>"
            ]
          },
          "metadata": {
            "tags": []
          }
        }
      ]
    },
    {
      "cell_type": "markdown",
      "metadata": {
        "id": "CS76Y0wZUX0G",
        "colab_type": "text"
      },
      "source": [
        "# 3. Decision Tree Classifier"
      ]
    },
    {
      "cell_type": "markdown",
      "metadata": {
        "id": "-PrZJn0GVDw6",
        "colab_type": "text"
      },
      "source": [
        "Strong algorithm, but requires a good hyperparameter tuning."
      ]
    },
    {
      "cell_type": "code",
      "metadata": {
        "id": "-f-hPNNYTzM3",
        "colab_type": "code",
        "outputId": "ea5ac4d8-3073-43e4-e323-93744aa5c7a4",
        "colab": {
          "base_uri": "https://localhost:8080/",
          "height": 118
        }
      },
      "source": [
        "from sklearn.tree import DecisionTreeClassifier\n",
        "\n",
        "tree_clf = DecisionTreeClassifier(max_depth=20, random_state=42)\n",
        "tree_clf.fit(X_train_scaled[:20000], y_train[:20000])"
      ],
      "execution_count": 20,
      "outputs": [
        {
          "output_type": "execute_result",
          "data": {
            "text/plain": [
              "DecisionTreeClassifier(class_weight=None, criterion='gini', max_depth=20,\n",
              "                       max_features=None, max_leaf_nodes=None,\n",
              "                       min_impurity_decrease=0.0, min_impurity_split=None,\n",
              "                       min_samples_leaf=1, min_samples_split=2,\n",
              "                       min_weight_fraction_leaf=0.0, presort=False,\n",
              "                       random_state=42, splitter='best')"
            ]
          },
          "metadata": {
            "tags": []
          },
          "execution_count": 20
        }
      ]
    },
    {
      "cell_type": "code",
      "metadata": {
        "id": "NsKx0Qu9Uxba",
        "colab_type": "code",
        "outputId": "9904a869-b9e7-4aba-a6df-3787f5399999",
        "colab": {
          "base_uri": "https://localhost:8080/",
          "height": 34
        }
      },
      "source": [
        "tree_clf.score(X_test_scaled, y_test)"
      ],
      "execution_count": 21,
      "outputs": [
        {
          "output_type": "execute_result",
          "data": {
            "text/plain": [
              "0.8392142857142857"
            ]
          },
          "metadata": {
            "tags": []
          },
          "execution_count": 21
        }
      ]
    },
    {
      "cell_type": "code",
      "metadata": {
        "id": "G8nJ63ERUz4-",
        "colab_type": "code",
        "outputId": "f2dce4fd-b80d-4975-d95a-9931af173761",
        "colab": {
          "base_uri": "https://localhost:8080/",
          "height": 298
        }
      },
      "source": [
        "test_num = 7411\n",
        "X_pred = knn_clf.predict([X_test_scaled[test_num]])\n",
        "plt.imshow(X_test[test_num].reshape(28, 28), cmap='binary')\n",
        "print(\"True Value:\", y_test[test_num])\n",
        "print(\"Predicted Value:\", X_pred)"
      ],
      "execution_count": 22,
      "outputs": [
        {
          "output_type": "stream",
          "text": [
            "True Value: 2\n",
            "Predicted Value: ['2']\n"
          ],
          "name": "stdout"
        },
        {
          "output_type": "display_data",
          "data": {
            "image/png": "[encoded data removed]",
            "text/plain": [
              "<Figure size 432x288 with 1 Axes>"
            ]
          },
          "metadata": {
            "tags": []
          }
        }
      ]
    },
    {
      "cell_type": "markdown",
      "metadata": {
        "id": "ncXxgQpiVxNE",
        "colab_type": "text"
      },
      "source": [
        "# 4. TensorFlow Neural Network"
      ]
    },
    {
      "cell_type": "markdown",
      "metadata": {
        "id": "o3OUkotJV4I5",
        "colab_type": "text"
      },
      "source": [
        "Done purely for fun! Don't worry about the number of neurons and layers we choose just yet! I will come back once we reach this topic :)\n",
        "\n",
        "((Tip: Convolutional Neural Networks in general are much better than Plain Neural Network when assessing images))"
      ]
    },
    {
      "cell_type": "code",
      "metadata": {
        "id": "cFjQL24tVqsh",
        "colab_type": "code",
        "colab": {}
      },
      "source": [
        "import tensorflow as tf\n",
        "import tensorflow.keras as keras"
      ],
      "execution_count": 0,
      "outputs": []
    },
    {
      "cell_type": "code",
      "metadata": {
        "id": "AnntdRr5WTq6",
        "colab_type": "code",
        "colab": {}
      },
      "source": [
        "model = keras.models.Sequential()\n",
        "model.add(keras.layers.Flatten())\n",
        "model.add(keras.layers.Dense(300, activation='relu'))\n",
        "model.add(keras.layers.Dense(200, activation='relu'))\n",
        "model.add(keras.layers.Dense(100, activation='relu'))\n",
        "model.add(keras.layers.Dense(10, activation='softmax'))"
      ],
      "execution_count": 0,
      "outputs": []
    },
    {
      "cell_type": "code",
      "metadata": {
        "id": "Nj3_vPn4W8Os",
        "colab_type": "code",
        "colab": {}
      },
      "source": [
        "model.compile(loss=\"sparse_categorical_crossentropy\", optimizer=keras.optimizers.SGD(learning_rate=1e-3, momentum=0.9),\n",
        "              metrics=['accuracy'])"
      ],
      "execution_count": 0,
      "outputs": []
    },
    {
      "cell_type": "code",
      "metadata": {
        "id": "5EUq7kQJXJSr",
        "colab_type": "code",
        "outputId": "5e99f8f4-0a4a-42e5-83e9-f39d307e3190",
        "colab": {
          "base_uri": "https://localhost:8080/",
          "height": 672
        }
      },
      "source": [
        "history = model.fit(X_train_scaled, y_train.astype(int), epochs=20,\n",
        "                    callbacks=[keras.callbacks.EarlyStopping(patience=10, restore_best_weights=True)],\n",
        "                    validation_data=(X_val_scaled, y_val.astype(int)))"
      ],
      "execution_count": 26,
      "outputs": [
        {
          "output_type": "stream",
          "text": [
            "Train on 50400 samples, validate on 5600 samples\n",
            "Epoch 1/20\n",
            "50400/50400 [==============================] - 8s 166us/sample - loss: 0.4807 - accuracy: 0.8644 - val_loss: 0.2554 - val_accuracy: 0.9302\n",
            "Epoch 2/20\n",
            "50400/50400 [==============================] - 8s 154us/sample - loss: 0.1843 - accuracy: 0.9456 - val_loss: 0.1836 - val_accuracy: 0.9475\n",
            "Epoch 3/20\n",
            "50400/50400 [==============================] - 8s 153us/sample - loss: 0.1291 - accuracy: 0.9614 - val_loss: 0.1553 - val_accuracy: 0.9543\n",
            "Epoch 4/20\n",
            "50400/50400 [==============================] - 8s 152us/sample - loss: 0.0987 - accuracy: 0.9715 - val_loss: 0.1454 - val_accuracy: 0.9582\n",
            "Epoch 5/20\n",
            "50400/50400 [==============================] - 8s 152us/sample - loss: 0.0775 - accuracy: 0.9777 - val_loss: 0.1389 - val_accuracy: 0.9618\n",
            "Epoch 6/20\n",
            "50400/50400 [==============================] - 8s 151us/sample - loss: 0.0637 - accuracy: 0.9821 - val_loss: 0.1331 - val_accuracy: 0.9648\n",
            "Epoch 7/20\n",
            "50400/50400 [==============================] - 7s 148us/sample - loss: 0.0518 - accuracy: 0.9863 - val_loss: 0.1363 - val_accuracy: 0.9639\n",
            "Epoch 8/20\n",
            "50400/50400 [==============================] - 8s 151us/sample - loss: 0.0422 - accuracy: 0.9888 - val_loss: 0.1387 - val_accuracy: 0.9673\n",
            "Epoch 9/20\n",
            "50400/50400 [==============================] - 8s 150us/sample - loss: 0.0339 - accuracy: 0.9918 - val_loss: 0.1315 - val_accuracy: 0.9654\n",
            "Epoch 10/20\n",
            "50400/50400 [==============================] - 8s 153us/sample - loss: 0.0275 - accuracy: 0.9934 - val_loss: 0.1325 - val_accuracy: 0.9686\n",
            "Epoch 11/20\n",
            "50400/50400 [==============================] - 8s 151us/sample - loss: 0.0224 - accuracy: 0.9955 - val_loss: 0.1347 - val_accuracy: 0.9689\n",
            "Epoch 12/20\n",
            "50400/50400 [==============================] - 8s 152us/sample - loss: 0.0184 - accuracy: 0.9965 - val_loss: 0.1380 - val_accuracy: 0.9686\n",
            "Epoch 13/20\n",
            "50400/50400 [==============================] - 7s 149us/sample - loss: 0.0150 - accuracy: 0.9976 - val_loss: 0.1393 - val_accuracy: 0.9691\n",
            "Epoch 14/20\n",
            "50400/50400 [==============================] - 8s 153us/sample - loss: 0.0125 - accuracy: 0.9982 - val_loss: 0.1423 - val_accuracy: 0.9691\n",
            "Epoch 15/20\n",
            "50400/50400 [==============================] - 8s 161us/sample - loss: 0.0103 - accuracy: 0.9986 - val_loss: 0.1465 - val_accuracy: 0.9698\n",
            "Epoch 16/20\n",
            "50400/50400 [==============================] - 8s 156us/sample - loss: 0.0087 - accuracy: 0.9991 - val_loss: 0.1483 - val_accuracy: 0.9691\n",
            "Epoch 17/20\n",
            "50400/50400 [==============================] - 8s 154us/sample - loss: 0.0074 - accuracy: 0.9993 - val_loss: 0.1495 - val_accuracy: 0.9700\n",
            "Epoch 18/20\n",
            "50400/50400 [==============================] - 8s 155us/sample - loss: 0.0063 - accuracy: 0.9996 - val_loss: 0.1516 - val_accuracy: 0.9693\n",
            "Epoch 19/20\n",
            "50400/50400 [==============================] - 8s 151us/sample - loss: 0.0054 - accuracy: 0.9997 - val_loss: 0.1548 - val_accuracy: 0.9704\n"
          ],
          "name": "stdout"
        }
      ]
    },
    {
      "cell_type": "code",
      "metadata": {
        "id": "4vh8L2KSZhCd",
        "colab_type": "code",
        "colab": {
          "base_uri": "https://localhost:8080/",
          "height": 50
        },
        "outputId": "602f27d6-72d6-46a6-97f7-6450e9f33d3b"
      },
      "source": [
        "model.evaluate(X_test_scaled, y_test.astype(int))"
      ],
      "execution_count": 27,
      "outputs": [
        {
          "output_type": "stream",
          "text": [
            "14000/14000 [==============================] - 1s 66us/sample - loss: 0.2391 - accuracy: 0.9676\n"
          ],
          "name": "stdout"
        },
        {
          "output_type": "execute_result",
          "data": {
            "text/plain": [
              "[0.23912783591289605, 0.96764284]"
            ]
          },
          "metadata": {
            "tags": []
          },
          "execution_count": 27
        }
      ]
    },
    {
      "cell_type": "markdown",
      "metadata": {
        "id": "LVIRSLlyd-yK",
        "colab_type": "text"
      },
      "source": [
        "**W O W**! With a neural network, we can quickly increase our accuracy up to a solid 96%! This is crazy!"
      ]
    },
    {
      "cell_type": "markdown",
      "metadata": {
        "id": "zpOYFROzfXQf",
        "colab_type": "text"
      },
      "source": [
        "# Cross Validation\n",
        "\n",
        "Cross validation is used to reduce overfitting. Overfitting happens when the model learns the \"training data\" too well, causing the testing data evaluation to fail. One way to find out whether we are overfitting is by creating a separate cohort of data called the \"validation data.\""
      ]
    },
    {
      "cell_type": "code",
      "metadata": {
        "id": "_FbjNFCFd8pr",
        "colab_type": "code",
        "colab": {}
      },
      "source": [
        "from sklearn.model_selection import cross_val_score\n",
        "\n",
        "scores = cross_val_score(svc, X_train_scaled[:1500], y_train[:1500], cv=3, scoring=\"accuracy\")"
      ],
      "execution_count": 0,
      "outputs": []
    },
    {
      "cell_type": "code",
      "metadata": {
        "id": "Ak2_d3p_gj9W",
        "colab_type": "code",
        "colab": {
          "base_uri": "https://localhost:8080/",
          "height": 34
        },
        "outputId": "2ad4416e-faf5-4443-e7f9-f4e1087e426c"
      },
      "source": [
        "print(\"Scores: \", scores)"
      ],
      "execution_count": 29,
      "outputs": [
        {
          "output_type": "stream",
          "text": [
            "Scores:  [0.90079365 0.87975952 0.89336016]\n"
          ],
          "name": "stdout"
        }
      ]
    },
    {
      "cell_type": "markdown",
      "metadata": {
        "id": "bBT1Fb3oj0WP",
        "colab_type": "text"
      },
      "source": [
        "Since the cross validation scores are all above 88%, we can be certain that the model did not overfit the data and is pretty consistent :)"
      ]
    },
    {
      "cell_type": "markdown",
      "metadata": {
        "id": "qJKBHkiDlxYZ",
        "colab_type": "text"
      },
      "source": [
        "### This concludes our topic on classification! Hope you enjoyed! As always, for any questions, contact us through foothill.mlds@gmail.com :D"
      ]
    }
  ]
}